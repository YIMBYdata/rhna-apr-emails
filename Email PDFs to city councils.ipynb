{
 "cells": [
  {
   "cell_type": "code",
   "execution_count": 37,
   "id": "16e7e96a",
   "metadata": {},
   "outputs": [],
   "source": [
    "import pandas as pd\n",
    "from pathlib import Path\n",
    "import gmail\n",
    "from textwrap import dedent"
   ]
  },
  {
   "cell_type": "code",
   "execution_count": 68,
   "id": "bfab8600",
   "metadata": {},
   "outputs": [
    {
     "data": {
      "text/plain": [
       "<module 'gmail' from '/Users/sidharth.kapur/personal-workspace/yimby-emails/gmail.py'>"
      ]
     },
     "execution_count": 68,
     "metadata": {},
     "output_type": "execute_result"
    }
   ],
   "source": [
    "from importlib import reload\n",
    "reload(gmail)"
   ]
  },
  {
   "cell_type": "code",
   "execution_count": 4,
   "id": "7c54aafd",
   "metadata": {},
   "outputs": [],
   "source": [
    "pdfs = list(Path('./output').glob('*.pdf'))"
   ]
  },
  {
   "cell_type": "code",
   "execution_count": 76,
   "id": "4f693167",
   "metadata": {},
   "outputs": [],
   "source": [
    "emails_df = pd.read_csv('ABAG council emails.csv', names=['city', 'emails'])"
   ]
  },
  {
   "cell_type": "code",
   "execution_count": 77,
   "id": "46d6b6cf",
   "metadata": {},
   "outputs": [],
   "source": [
    "for pdf_file in pdfs:\n",
    "    city_name = pdf_file.stem\n",
    "    # if city_name not in sent_emails and city_name != \"Pleasant Hill\":\n",
    "    # if city_name not in [\"Pleasant Hill\", \"Mountain View\", \"Oakland\"]:\n",
    "    if city_name == \"Milpitas\":\n",
    "        emails = emails_df[\n",
    "            emails_df['city'] == city_name\n",
    "        ].squeeze()['emails'].split(',')\n",
    "\n",
    "        body = dedent(\n",
    "            f\"\"\"\\\n",
    "            Dear {city_name} City Council:\n",
    "\n",
    "            Please see the attached letter from YIMBY Law and Greenbelt Alliance\n",
    "            regarding {city_name}'s 6th cycle Housing Element.\n",
    "            \n",
    "            The PDF should be correctly attached now.\n",
    "\n",
    "            Best,<br>\n",
    "            Sid Kapur<br>\n",
    "            sidharthkapur1@gmail.com<br>\n",
    "            (469) 487-9648\n",
    "            \"\"\"\n",
    "        )\n",
    "\n",
    "        message = gmail.make_email(\n",
    "            to=[(email, email) for email in emails],\n",
    "            cc=[\n",
    "                ('HousingElements@hcd.ca.gov', 'HousingElements@hcd.ca.gov'),\n",
    "                ('Rafa Sonnenfeld', 'rafa@yimbylaw.org'),\n",
    "                ('Zoe Siegel', 'zsiegel@greenbelt.org'),\n",
    "            ],\n",
    "            # to=[('sidharthkapur1@gmail.com', 'sidharthkapur1@gmail.com')],\n",
    "            # cc=[],\n",
    "            subject=f\"Letter re. {city_name}'s 6th Cycle Housing Element\",\n",
    "            body=body,\n",
    "            attachments=[(f\"{city_name} Housing Element letter - YIMBY Law, Greenbelt Alliance.pdf\", pdf_file)],\n",
    "        )\n",
    "        gmail.send_email(message)"
   ]
  }
 ],
 "metadata": {
  "kernelspec": {
   "display_name": "Python 3 (ipykernel)",
   "language": "python",
   "name": "python3"
  },
  "language_info": {
   "codemirror_mode": {
    "name": "ipython",
    "version": 3
   },
   "file_extension": ".py",
   "mimetype": "text/x-python",
   "name": "python",
   "nbconvert_exporter": "python",
   "pygments_lexer": "ipython3",
   "version": "3.10.0"
  }
 },
 "nbformat": 4,
 "nbformat_minor": 5
}
